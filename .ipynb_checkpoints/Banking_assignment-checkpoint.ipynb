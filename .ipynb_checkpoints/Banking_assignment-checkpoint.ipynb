{
 "cells": [
  {
   "cell_type": "code",
   "execution_count": 53,
   "id": "15f8c1bd-c507-49e1-aa17-17996595ac6f",
   "metadata": {},
   "outputs": [],
   "source": [
    "# Create an account for a user with a name and initial balance.\n",
    "def user_details():\n",
    "    account_holder_name = input(\"Enter your name: \")\n",
    "    balance = float(input(\"Enter your balance: \"))  # Using float for balance to handle decimal amounts\n",
    "    list_of_transactions = []\n",
    "    user_details = {\n",
    "        \"account_holder_name\": account_holder_name,\n",
    "        \"balance\": balance,\n",
    "        \"list_of_transactions\": list_of_transactions\n",
    "    }\n",
    "    return user_details\n",
    "# Deposit money into the user's account\n",
    "def deposit(account, deposit_amount):\n",
    "    # Ensure the deposit amount is positive\n",
    "    if deposit_amount <= 0:\n",
    "        return \"Deposit amount should be positive\"\n",
    "    \n",
    "    # Add the deposit amount to the current balance\n",
    "    account[\"balance\"] += deposit_amount\n",
    "    \n",
    "    # Record the transaction\n",
    "    transaction = f\"Deposit: {deposit_amount} | New balance: {account['balance']}\"\n",
    "    account[\"list_of_transactions\"].append(transaction)\n",
    "    \n",
    "    # Write the transaction to a file for permanent storage\n",
    "    try:\n",
    "        with open(\"list_of_transactions.txt\", \"a\") as file:  # Append mode\n",
    "            file.write(transaction + \"\\n\")\n",
    "        return f\"Deposit successful! New balance is: {account['balance']}\"\n",
    "    except Exception as e:\n",
    "        return f\"Deposit was not recorded in the database. Please try again: {e}\"\n",
    "# Withdraw money\n",
    "def withdraw_money(account, withdraw_amount):\n",
    "    if withdraw_amount <= 0:\n",
    "        return f\"Withdraw amount should be positive\"\n",
    "    if withdraw_amount > account['balance']:\n",
    "        return f\"withdraw amount is greater then your balance so there are insufficient funds\"\n",
    "    # subtraction of withdrawl amount from balance\n",
    "    account['balance'] -= withdraw_amount\n",
    "    # recording the transaction of withdrawl\n",
    "    transaction = f\"withdrawl:{withdraw_amount} | New balance: {account['balance']}\"\n",
    "    account[\"list_of_transactions\"].append(transaction)\n",
    "    # Write the transaction to a file for permanent storage\n",
    "    try:\n",
    "        with open(\"list_of_transactions.txt\", \"a\") as file:  # Append mode\n",
    "            file.write(transaction + \"\\n\")\n",
    "        return f\"Withdrawl successful! New balance is: {account['balance']}\"\n",
    "    except Exception as e:\n",
    "        return f\"Withdrawl was not recorded in the database. Please try again: {e}\"\n",
    "# check balance \n",
    "def check_balance(account):\n",
    "    return f\"Your balance is: {account['balance']}\"\n",
    "# print statement of user account\n",
    "\n",
    "def print_statement(account):\n",
    "    return f\"The transaction statement of {account['account_holder_name']} is presented down below : {account['list_of_transactions']}\"\n",
    "    if len(transaction) == 0:\n",
    "        print(\"No transaction are found please do transaction and come back again\")\n",
    "    else:\n",
    "        for transaction in account['list_of_transactions']:\n",
    "            print(transaction)"
   ]
  },
  {
   "cell_type": "code",
   "execution_count": 55,
   "id": "7c924d04-adb0-4908-814b-fba1199046fd",
   "metadata": {},
   "outputs": [
    {
     "name": "stdin",
     "output_type": "stream",
     "text": [
      "Enter your name:  hanzala\n",
      "Enter your balance:  100000\n",
      "Enter your deposit amount:  20000\n"
     ]
    },
    {
     "name": "stdout",
     "output_type": "stream",
     "text": [
      "Deposit successful! New balance is: 120000.0\n"
     ]
    },
    {
     "name": "stdin",
     "output_type": "stream",
     "text": [
      "Enter your withdrawal amount:  50000\n"
     ]
    },
    {
     "name": "stdout",
     "output_type": "stream",
     "text": [
      "Withdrawl successful! New balance is: 70000.0\n",
      "Your balance is: 70000.0\n",
      "The transaction statement of hanzala is presented down below : ['Deposit: 20000.0 | New balance: 120000.0', 'withdrawl:50000.0 | New balance: 70000.0']\n"
     ]
    }
   ],
   "source": [
    "user_account = user_details()\n",
    "deposit_amount = float(input(\"Enter your deposit amount: \"))\n",
    "print(deposit(user_account, deposit_amount))\n",
    "withdraw_amount= float(input(\"Enter your withdrawal amount: \"))\n",
    "print(withdraw_money(user_account, withdraw_amount))\n",
    "check_bal = check_balance(user_account)\n",
    "print(check_bal)\n",
    "statement_of_account = print_statement(user_account)\n",
    "print(statement_of_account)\n"
   ]
  },
  {
   "cell_type": "code",
   "execution_count": 56,
   "id": "90ac915a-180f-414e-ad27-0e06be79740c",
   "metadata": {},
   "outputs": [
    {
     "name": "stdin",
     "output_type": "stream",
     "text": [
      "Enter your name:  ali\n",
      "Enter your balance:  100000\n",
      "Enter your deposit amount:  30000\n"
     ]
    },
    {
     "name": "stdout",
     "output_type": "stream",
     "text": [
      "Deposit successful! New balance is: 130000.0\n"
     ]
    },
    {
     "name": "stdin",
     "output_type": "stream",
     "text": [
      "Enter your withdrawal amount:  20000\n"
     ]
    },
    {
     "name": "stdout",
     "output_type": "stream",
     "text": [
      "Withdrawl successful! New balance is: 110000.0\n",
      "Your balance is: 110000.0\n",
      "The transaction statement of ali is presented down below : ['Deposit: 30000.0 | New balance: 130000.0', 'withdrawl:20000.0 | New balance: 110000.0']\n"
     ]
    }
   ],
   "source": [
    "user_account = user_details()\n",
    "deposit_amount = float(input(\"Enter your deposit amount: \"))\n",
    "print(deposit(user_account, deposit_amount))\n",
    "withdraw_amount= float(input(\"Enter your withdrawal amount: \"))\n",
    "print(withdraw_money(user_account, withdraw_amount))\n",
    "check_bal = check_balance(user_account)\n",
    "print(check_bal)\n",
    "statement_of_account = print_statement(user_account)\n",
    "print(statement_of_account)\n"
   ]
  },
  {
   "cell_type": "code",
   "execution_count": 57,
   "id": "572c61da-411c-4248-aec6-c0268cf9aab9",
   "metadata": {},
   "outputs": [
    {
     "name": "stdin",
     "output_type": "stream",
     "text": [
      "Enter your name:  asad\n",
      "Enter your balance:  40000\n",
      "Enter your deposit amount:  40000\n"
     ]
    },
    {
     "name": "stdout",
     "output_type": "stream",
     "text": [
      "Deposit successful! New balance is: 80000.0\n"
     ]
    },
    {
     "name": "stdin",
     "output_type": "stream",
     "text": [
      "Enter your withdrawal amount:  10000\n"
     ]
    },
    {
     "name": "stdout",
     "output_type": "stream",
     "text": [
      "Withdrawl successful! New balance is: 70000.0\n",
      "Your balance is: 70000.0\n",
      "The transaction statement of asad is presented down below : ['Deposit: 40000.0 | New balance: 80000.0', 'withdrawl:10000.0 | New balance: 70000.0']\n"
     ]
    }
   ],
   "source": [
    "user_account = user_details()\n",
    "deposit_amount = float(input(\"Enter your deposit amount: \"))\n",
    "print(deposit(user_account, deposit_amount))\n",
    "withdraw_amount= float(input(\"Enter your withdrawal amount: \"))\n",
    "print(withdraw_money(user_account, withdraw_amount))\n",
    "check_bal = check_balance(user_account)\n",
    "print(check_bal)\n",
    "statement_of_account = print_statement(user_account)\n",
    "print(statement_of_account)"
   ]
  },
  {
   "cell_type": "code",
   "execution_count": null,
   "id": "242b680c-8680-493d-9231-ec0714c433a2",
   "metadata": {},
   "outputs": [],
   "source": []
  }
 ],
 "metadata": {
  "kernelspec": {
   "display_name": "Python 3 (ipykernel)",
   "language": "python",
   "name": "python3"
  },
  "language_info": {
   "codemirror_mode": {
    "name": "ipython",
    "version": 3
   },
   "file_extension": ".py",
   "mimetype": "text/x-python",
   "name": "python",
   "nbconvert_exporter": "python",
   "pygments_lexer": "ipython3",
   "version": "3.13.1"
  }
 },
 "nbformat": 4,
 "nbformat_minor": 5
}
